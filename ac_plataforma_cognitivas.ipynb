{
  "nbformat": 4,
  "nbformat_minor": 0,
  "metadata": {
    "colab": {
      "provenance": []
    },
    "kernelspec": {
      "name": "python3",
      "display_name": "Python 3"
    },
    "language_info": {
      "name": "python"
    }
  },
  "cells": [
    {
      "cell_type": "code",
      "execution_count": null,
      "metadata": {
        "id": "QkD3C-Fz9JON",
        "colab": {
          "base_uri": "https://localhost:8080/"
        },
        "outputId": "e1b6b8ee-5414-4aa1-b180-e3aab40fb24f"
      },
      "outputs": [
        {
          "output_type": "stream",
          "name": "stdout",
          "text": [
            "A 1° imagem é: {'http://mars.nasa.gov/mer/gallery/all/1/n/1000/1N216958451EFF76ZFP1950L0M1-BR.JPG'}\n",
            "A 2° imagem é: {'http://mars.nasa.gov/mer/gallery/all/1/n/1000/1N216958451EFF76ZFP1950R0M1-BR.JPG'}\n",
            "A 3° imagem é: {'http://mars.nasa.gov/mer/gallery/all/1/p/1000/1P216957338ESF76ZFP2600L8M1-BR.JPG'}\n",
            "A 4° imagem é: {'http://mars.nasa.gov/mer/gallery/all/1/p/1000/1P216957338ESF76ZFP2600R8M1-BR.JPG'}\n",
            "A 5° imagem é: {'http://mars.nasa.gov/mer/gallery/all/1/p/1000/1P216957358ESF76ZFP2619L8M1-BR.JPG'}\n",
            "A 6° imagem é: {'http://mars.nasa.gov/mer/gallery/all/1/p/1000/1P216957358ESF76ZFP2619R8M1-BR.JPG'}\n"
          ]
        }
      ],
      "source": [
        "import requests\n",
        "import json\n",
        "\n",
        "resposta = requests.get('https://api.nasa.gov/mars-photos/api/v1/rovers/Opportunity/photos?sol=1000&api_key=7TCwaMLDD84AuwT6GhICtX3pT5HTEwd9P4mezRw2')\n",
        "res = resposta.json()\n",
        "cont = 0\n",
        "for c in res['photos']:\n",
        "  cont +=1\n",
        "  print(f'A {cont}° imagem é:',{c['img_src']})"
      ]
    }
  ]
}